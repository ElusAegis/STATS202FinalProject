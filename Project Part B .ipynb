{
 "cells": [
  {
   "cell_type": "code",
   "execution_count": 1,
   "metadata": {},
   "outputs": [],
   "source": [
    "import os\n",
    "\n",
    "import pandas as pd\n",
    "import numpy as np\n",
    "from scipy import stats\n",
    "\n",
    "from itertools import combinations\n",
    "\n",
    "import seaborn as sns\n",
    "from matplotlib import pyplot as plt\n",
    "import matplotlib.gridspec as gridspec\n",
    "\n",
    "from sklearn import preprocessing\n",
    "import scipy.cluster.hierarchy as shc\n",
    "from sklearn.cluster import AgglomerativeClustering\n",
    "from sklearn.cluster import KMeans\n",
    "from sklearn.mixture import GaussianMixture\n",
    "\n",
    "import ProjectLibrary as pl"
   ]
  },
  {
   "cell_type": "markdown",
   "metadata": {},
   "source": [
    "Loading Data for the Clustering"
   ]
  },
  {
   "cell_type": "code",
   "execution_count": 15,
   "metadata": {},
   "outputs": [],
   "source": [
    "path = \"DataSets/\"\n",
    "DataSet_A = pd.read_csv(path + 'Study_A.csv')\n",
    "DataSet_B = pd.read_csv(path + 'Study_B.csv')\n",
    "DataSet_C = pd.read_csv(path + 'Study_C.csv')\n",
    "DataSet_D = pd.read_csv(path + 'Study_D.csv')\n",
    "DataSet_E = pd.read_csv(path + 'Study_E.csv')\n",
    "\n",
    "DataSet_E[\"LeadStatus\"] = None\n",
    "\n",
    "DataSet_All = pd.concat([DataSet_A, DataSet_B, DataSet_C, DataSet_D, DataSet_E])"
   ]
  },
  {
   "cell_type": "markdown",
   "metadata": {},
   "source": [
    "Adding Extra Features like PossTotal NegTotal General Total and Composite"
   ]
  },
  {
   "cell_type": "code",
   "execution_count": 18,
   "metadata": {},
   "outputs": [],
   "source": [
    "DataSet_All[\"POSS\"] = DataSet_All.iloc[:, 8:15].sum(axis=1)\n",
    "DataSet_All[\"NEGG\"] = DataSet_All.iloc[:, 15:22].sum(axis=1)\n",
    "DataSet_All[\"GENR\"] = DataSet_All.iloc[:, 22:38].sum(axis=1)\n",
    "DataSet_All[\"COMP\"] = DataSet_All[\"POSS\"] - DataSet_All[\"NEGG\"]"
   ]
  },
  {
   "cell_type": "markdown",
   "metadata": {},
   "source": [
    "Preparing the DataSets for clustering. We use PNG_Clust_DataSet_All which has all featurs P1-P7, G1-G16, N1-N7 for day 0"
   ]
  },
  {
   "cell_type": "code",
   "execution_count": 19,
   "metadata": {},
   "outputs": [],
   "source": [
    "RawClust_DataSet_All = DataSet_All[(DataSet_All[\"VisitDay\"]==0) & (DataSet_All[\"LeadStatus\"]=='Passed')]\n",
    "\n",
    "Clust_DataSet_All = RawClust_DataSet_All.iloc[:, 8:len(RawClust_DataSet_All.columns)].drop('LeadStatus', axis=1)\n",
    "Small_Clust_DataSet_All = Clust_DataSet_All.iloc[:, [30, 33, 34]]\n",
    "PNG_Clust_DataSet_All = Clust_DataSet_All.iloc[:, range(30)]"
   ]
  },
  {
   "cell_type": "markdown",
   "metadata": {},
   "source": [
    "Ploting the result for 2 clusters using KMeans"
   ]
  },
  {
   "cell_type": "code",
   "execution_count": null,
   "metadata": {
    "scrolled": true
   },
   "outputs": [],
   "source": [
    "ClusterN = 2\n",
    "pl.printClusterKM(pl.NormalDataFrame(PNG_Clust_DataSet_All), ClusterN, Small_Clust_DataSet_All)\n"
   ]
  },
  {
   "cell_type": "markdown",
   "metadata": {},
   "source": [
    "Ploting the result for 4 clusters using KMeans"
   ]
  },
  {
   "cell_type": "code",
   "execution_count": null,
   "metadata": {
    "scrolled": false
   },
   "outputs": [],
   "source": [
    "pl.quality_of_cluster(Clust_DataSet_All, pl.printClusterKM(pl.NormalDataFrame(PNG_Clust_DataSet_All), 4, Small_Clust_DataSet_All), 4)"
   ]
  },
  {
   "cell_type": "markdown",
   "metadata": {},
   "source": [
    "Ploting the result for 3 clusters Hierarchy with linkage \"ward\""
   ]
  },
  {
   "cell_type": "code",
   "execution_count": null,
   "metadata": {
    "scrolled": false
   },
   "outputs": [],
   "source": [
    "pl.quality_of_cluster(Clust_DataSet_All, pl.printClusterHierarchy(\"ward\",  pl.NormalDataFrame(PNG_Clust_DataSet_All), 3, Small_Clust_DataSet_All), 3)\n"
   ]
  },
  {
   "cell_type": "markdown",
   "metadata": {},
   "source": [
    "Ploting the result for 3 clusters using KMeans"
   ]
  },
  {
   "cell_type": "code",
   "execution_count": null,
   "metadata": {
    "scrolled": true
   },
   "outputs": [],
   "source": [
    "pl.quality_of_cluster(Clust_DataSet_All, pl.printClusterKM(pl.NormalDataFrame(PNG_Clust_DataSet_All), 3, Small_Clust_DataSet_All), 3)"
   ]
  },
  {
   "cell_type": "markdown",
   "metadata": {},
   "source": [
    "Ploting the result for 2 clusters using GMM"
   ]
  },
  {
   "cell_type": "code",
   "execution_count": null,
   "metadata": {
    "scrolled": true
   },
   "outputs": [],
   "source": [
    "pl.quality_of_cluster(Clust_DataSet_All, pl.printClusterGMM(pl.NormalDataFrame(PNG_Clust_DataSet_All), 3, Small_Clust_DataSet_All), 3)"
   ]
  },
  {
   "cell_type": "code",
   "execution_count": null,
   "metadata": {},
   "outputs": [],
   "source": []
  },
  {
   "cell_type": "code",
   "execution_count": null,
   "metadata": {},
   "outputs": [],
   "source": []
  }
 ],
 "metadata": {
  "kernelspec": {
   "display_name": "Python 3",
   "language": "python",
   "name": "python3"
  },
  "language_info": {
   "codemirror_mode": {
    "name": "ipython",
    "version": 3
   },
   "file_extension": ".py",
   "mimetype": "text/x-python",
   "name": "python",
   "nbconvert_exporter": "python",
   "pygments_lexer": "ipython3",
   "version": "3.7.1"
  }
 },
 "nbformat": 4,
 "nbformat_minor": 2
}
