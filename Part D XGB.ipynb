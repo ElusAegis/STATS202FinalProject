{
 "cells": [
  {
   "cell_type": "code",
   "execution_count": 10,
   "metadata": {},
   "outputs": [],
   "source": [
    "import os\n",
    "\n",
    "import ProjectLibrary as pl"
   ]
  },
  {
   "cell_type": "markdown",
   "metadata": {},
   "source": [
    "Loading data, where x is all datasets combined, y is labels for all datasets combined and e is the dataset that we are predicting"
   ]
  },
  {
   "cell_type": "code",
   "execution_count": 11,
   "metadata": {},
   "outputs": [],
   "source": [
    "x, y, e = pl.q4a()"
   ]
  },
  {
   "cell_type": "markdown",
   "metadata": {},
   "source": [
    "probab - probaility of test labels, output_label - output labels, test_output - probabilities for test data"
   ]
  },
  {
   "cell_type": "code",
   "execution_count": 12,
   "metadata": {},
   "outputs": [
    {
     "name": "stdout",
     "output_type": "stream",
     "text": [
      "forest_accuracy:  0.8188166606773318\n",
      "forest_precision:  0.8043567204055874\n",
      "forest_recall:  0.7404472983031972\n",
      "forest_f1:  0.8082803465517696\n",
      "forest_roc:  0.8643458003206413\n",
      "XGB Classifier: 81.02%\n",
      "MSE:  0.18984771573604062\n",
      "ROC_AUC:  0.7364800548442462\n",
      "CONFUSION MATRIX: \n",
      " [[ 325  261]\n",
      " [ 113 1271]]\n",
      "1    1660\n",
      "0     302\n",
      "dtype: int64\n",
      "1    1532\n",
      "0     438\n",
      "dtype: int64\n"
     ]
    }
   ],
   "source": [
    "probab, output_label, test_output = pl.xgb(x, y, e)"
   ]
  },
  {
   "cell_type": "markdown",
   "metadata": {},
   "source": [
    "Outputing the predicted labels"
   ]
  },
  {
   "cell_type": "code",
   "execution_count": 14,
   "metadata": {},
   "outputs": [],
   "source": [
    "pl.predict(probab).to_csv(\"prediction_D.csv\", index=False)"
   ]
  }
 ],
 "metadata": {
  "kernelspec": {
   "display_name": "Python 3",
   "language": "python",
   "name": "python3"
  },
  "language_info": {
   "codemirror_mode": {
    "name": "ipython",
    "version": 3
   },
   "file_extension": ".py",
   "mimetype": "text/x-python",
   "name": "python",
   "nbconvert_exporter": "python",
   "pygments_lexer": "ipython3",
   "version": "3.7.1"
  }
 },
 "nbformat": 4,
 "nbformat_minor": 2
}
