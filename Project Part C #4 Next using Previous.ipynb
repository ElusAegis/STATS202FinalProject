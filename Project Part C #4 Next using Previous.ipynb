{
 "cells": [
  {
   "cell_type": "code",
   "execution_count": 1,
   "metadata": {
    "scrolled": true
   },
   "outputs": [],
   "source": [
    "import os\n",
    "\n",
    "import matplotlib.pyplot as plt\n",
    "import seaborn as sns\n",
    "\n",
    "import pandas as pd\n",
    "import numpy as np\n",
    "from scipy import stats\n",
    "\n",
    "from sklearn.cluster import KMeans\n",
    "from sklearn import metrics\n",
    "from sklearn.linear_model import LinearRegression\n",
    "\n",
    "import ProjectLibrary as pl"
   ]
  },
  {
   "cell_type": "markdown",
   "metadata": {},
   "source": [
    "Setting up hyperparameters version - model version, testing - debug or output. \n",
    "run_All - run a small and big dataset. Otherwise just small"
   ]
  },
  {
   "cell_type": "code",
   "execution_count": 2,
   "metadata": {},
   "outputs": [],
   "source": [
    "version = 3\n",
    "testing = 0\n",
    "run_ALL = 0"
   ]
  },
  {
   "cell_type": "markdown",
   "metadata": {},
   "source": [
    "Loading Data"
   ]
  },
  {
   "cell_type": "code",
   "execution_count": 3,
   "metadata": {},
   "outputs": [],
   "source": [
    "path = \"DataSets/\"\n",
    "DataSet_A = pd.read_csv(path + 'Study_A.csv').iloc[:,0:39]\n",
    "DataSet_B = pd.read_csv(path + 'Study_B.csv').iloc[:,0:39]\n",
    "DataSet_C = pd.read_csv(path + 'Study_C.csv').iloc[:,0:39]\n",
    "DataSet_D = pd.read_csv(path + 'Study_D.csv').iloc[:,0:39]\n",
    "DataSet_E = pd.read_csv(path + 'Study_E.csv').iloc[:,0:39]\n",
    "\n",
    "Sample_Sub = pd.read_csv(path + \"sample_submission_PANSS.csv\")\n",
    "\n",
    "DataSet_All = pd.concat([DataSet_A, DataSet_B, DataSet_C, DataSet_D, DataSet_E]) if run_ALL else None"
   ]
  },
  {
   "cell_type": "markdown",
   "metadata": {},
   "source": [
    "Cleaning the DataSet of all the repeated mesurments, takes long"
   ]
  },
  {
   "cell_type": "code",
   "execution_count": 4,
   "metadata": {},
   "outputs": [
    {
     "name": "stdout",
     "output_type": "stream",
     "text": [
      "Done    10.19%\n",
      "Done    20.39%\n",
      "Done    30.58%\n",
      "Done    40.77%\n",
      "Done    50.97%\n",
      "Done    61.16%\n",
      "Done    71.36%\n",
      "Done    81.55%\n",
      "Done    91.74%\n"
     ]
    }
   ],
   "source": [
    "DataSet_E_M = pl.CleanRepeates(DataSet_E)"
   ]
  },
  {
   "cell_type": "markdown",
   "metadata": {},
   "source": [
    "Adds Visit Time column to a DataSet"
   ]
  },
  {
   "cell_type": "code",
   "execution_count": 5,
   "metadata": {},
   "outputs": [],
   "source": [
    "DataSet_E_M = pl.addVisitTime(DataSet_E_M)\n",
    "DataSet_All_M = pl.addVisitTime(DataSet_All)  if run_ALL else None"
   ]
  },
  {
   "cell_type": "markdown",
   "metadata": {},
   "source": [
    "Drops unrequired columns \"TxGroup\", \"Study\" from a DataSet"
   ]
  },
  {
   "cell_type": "code",
   "execution_count": 6,
   "metadata": {},
   "outputs": [],
   "source": [
    "DataSet_E_M = DataSet_E_M.drop(columns=[\"TxGroup\", \"Study\"])\n",
    "DataSet_All_M = DataSet_All_M.drop(columns=[\"TxGroup\", \"Study\"])  if run_ALL else None"
   ]
  },
  {
   "cell_type": "markdown",
   "metadata": {},
   "source": [
    "Encodes as dummies the country"
   ]
  },
  {
   "cell_type": "code",
   "execution_count": 7,
   "metadata": {},
   "outputs": [],
   "source": [
    "DataSet_E_M = pd.get_dummies(DataSet_E_M, columns=[\"Country\"])\n",
    "DataSet_All_M = pd.get_dummies(DataSet_All_M, columns=[\"Country\"])  if run_ALL else None"
   ]
  },
  {
   "cell_type": "markdown",
   "metadata": {},
   "source": [
    "Adds weighted avarage speed of change column to a DataSet"
   ]
  },
  {
   "cell_type": "code",
   "execution_count": 8,
   "metadata": {},
   "outputs": [
    {
     "ename": "NameError",
     "evalue": "name 'AddSmartChange' is not defined",
     "output_type": "error",
     "traceback": [
      "\u001b[0;31m---------------------------------------------------------------------------\u001b[0m",
      "\u001b[0;31mNameError\u001b[0m                                 Traceback (most recent call last)",
      "\u001b[0;32m<ipython-input-8-24ea5003f6e1>\u001b[0m in \u001b[0;36m<module>\u001b[0;34m\u001b[0m\n\u001b[0;32m----> 1\u001b[0;31m \u001b[0mDataSet_E_M\u001b[0m \u001b[0;34m=\u001b[0m \u001b[0mAddSmartChange\u001b[0m\u001b[0;34m(\u001b[0m\u001b[0mDataSet_E_M\u001b[0m\u001b[0;34m)\u001b[0m\u001b[0;34m\u001b[0m\u001b[0;34m\u001b[0m\u001b[0m\n\u001b[0m\u001b[1;32m      2\u001b[0m \u001b[0mDataSet_All_M\u001b[0m \u001b[0;34m=\u001b[0m \u001b[0mAddSmartChange\u001b[0m\u001b[0;34m(\u001b[0m\u001b[0mDataSet_All_M\u001b[0m\u001b[0;34m)\u001b[0m \u001b[0;32mif\u001b[0m \u001b[0mrun_ALL\u001b[0m \u001b[0;32melse\u001b[0m \u001b[0;32mNone\u001b[0m\u001b[0;34m\u001b[0m\u001b[0;34m\u001b[0m\u001b[0m\n",
      "\u001b[0;31mNameError\u001b[0m: name 'AddSmartChange' is not defined"
     ]
    }
   ],
   "source": [
    "DataSet_E_M = AddSmartChange(DataSet_E_M)\n",
    "DataSet_All_M = AddSmartChange(DataSet_All_M) if run_ALL else None"
   ]
  },
  {
   "cell_type": "markdown",
   "metadata": {},
   "source": [
    "Creating test & train data - our model predicts the day of last visit and the PANSS_Total"
   ]
  },
  {
   "cell_type": "code",
   "execution_count": null,
   "metadata": {},
   "outputs": [],
   "source": [
    "DataSet_E_Test = pd.DataFrame(columns=DataSet_E_M.columns)\n",
    "DataSet_E_Train = pd.DataFrame(columns=DataSet_E_M.columns)\n",
    "PatientID = -1\n",
    "row_n = -1\n",
    "\n",
    "while row_n + 1 < DataSet_E_M.shape[0]:\n",
    "    if PatientID != DataSet_E_M.iloc[row_n + 1][\"PatientID\"]:\n",
    "        if PatientID != -1:\n",
    "            DataSet_E_Test = DataSet_E_Test.append(DataSet_E_M.iloc[row_n])\n",
    "        PatientID = DataSet_E_M.iloc[row_n][\"PatientID\"]\n",
    "    else:\n",
    "        DataSet_E_Train = DataSet_E_Train.append(DataSet_E_M.iloc[row_n])\n",
    "        \n",
    "    print(\"Done %8.2f%%\" % ((row_n+1)/DataSet_E.shape[0] * 100)) if not row_n % 100 else None\n",
    "\n",
    "    row_n += 1\n",
    "    \n",
    "DataSet_E_Test = DataSet_E_Test[DataSet_E_Test[\"VisitDay\"] > 0]\n",
    "\n",
    "DataSet_E_Test = DataSet_E_Test.reset_index()\n",
    "DataSet_E_Train = DataSet_E_Train.reset_index()\n",
    "\n",
    "Sel_E_Output = DataSet_E_M[DataSet_E_M[\"PatientID\"].isin(Sample_Sub[\"PatientID\"])].reset_index()\n",
    "    \n",
    "print(\"Finished!\")"
   ]
  },
  {
   "cell_type": "markdown",
   "metadata": {},
   "source": [
    "Clustering the Data for each Patient using day zero scores and SmartChange"
   ]
  },
  {
   "cell_type": "code",
   "execution_count": null,
   "metadata": {},
   "outputs": [],
   "source": [
    "clust_columns = [\"Country_Russia\", \"Country_UK\", \"Country_USA\", \"SmartChange\", \"PANSS_Total\"]\n",
    "number_cluster = 20\n",
    "\n",
    "mask_TrainE = DataSet_E_Train[\"VisitDay\"] == 0\n",
    "mask_SelectE = Sel_E_Output[\"VisitDay\"] == 0\n",
    "\n",
    "kmeans_TrainE = KMeans(n_clusters=number_cluster, random_state=0).fit(NormalDataFrame(DataSet_E_Train.loc[mask_TrainE, clust_columns]))\n",
    "kmeans_SelectE = KMeans(n_clusters=number_cluster, random_state=0).fit(NormalDataFrame(Sel_E_Output.loc[mask_SelectE, clust_columns]))\n",
    "\n",
    "Full_Clust_DataSet_E_Train = [DataSet_E_Train[\"PatientID\"][nrow] for nrow in range(DataSet_E_Train.shape[0])]\n",
    "Full_Clust_DataSet_E_Train\n"
   ]
  },
  {
   "cell_type": "markdown",
   "metadata": {},
   "source": [
    "Creating All XGB permutations for training - Work in progress..."
   ]
  },
  {
   "cell_type": "code",
   "execution_count": null,
   "metadata": {},
   "outputs": [],
   "source": [
    "# mask_TrainE = DataSet_E_Train[\"VisitDay\"] == 0\n",
    "\n",
    "# for cluster in range(number_cluster):\n",
    "#     clust_PatientID = DataSet_E_Train[\"PatientID\"][mask_SelectE][kmeans_TrainE.labels_ == cluster].unique()\n",
    "#     XGB_DATAFRAME = DataSet_E_Train[][DataSet_E_Train[\"PatientID\"].isin(clust_PatientID)]"
   ]
  }
 ],
 "metadata": {
  "kernelspec": {
   "display_name": "Python 3",
   "language": "python",
   "name": "python3"
  },
  "language_info": {
   "codemirror_mode": {
    "name": "ipython",
    "version": 3
   },
   "file_extension": ".py",
   "mimetype": "text/x-python",
   "name": "python",
   "nbconvert_exporter": "python",
   "pygments_lexer": "ipython3",
   "version": "3.7.1"
  }
 },
 "nbformat": 4,
 "nbformat_minor": 2
}
