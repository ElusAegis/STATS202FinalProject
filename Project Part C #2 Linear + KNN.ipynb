{
 "cells": [
  {
   "cell_type": "code",
   "execution_count": 2,
   "metadata": {},
   "outputs": [],
   "source": [
    "import os\n",
    "\n",
    "import matplotlib.pyplot as plt\n",
    "import seaborn as sns\n",
    "\n",
    "import pandas as pd\n",
    "import numpy as np\n",
    "from scipy import stats\n",
    "\n",
    "from sklearn.cluster import KMeans\n",
    "from sklearn import metrics\n",
    "from sklearn.linear_model import LinearRegression\n",
    "\n",
    "import ProjectLibrary as pl"
   ]
  },
  {
   "cell_type": "markdown",
   "metadata": {},
   "source": [
    "Setting up hyperparameters version - model version, testing - debug or output."
   ]
  },
  {
   "cell_type": "code",
   "execution_count": 12,
   "metadata": {},
   "outputs": [],
   "source": [
    "version = 2\n",
    "testing = 0"
   ]
  },
  {
   "cell_type": "markdown",
   "metadata": {},
   "source": [
    "Loading Data"
   ]
  },
  {
   "cell_type": "code",
   "execution_count": 5,
   "metadata": {},
   "outputs": [],
   "source": [
    "path = \"DataSets/\"\n",
    "DataSet_A = pd.read_csv(path + 'Study_A.csv').iloc[:,0:39]\n",
    "DataSet_B = pd.read_csv(path + 'Study_B.csv').iloc[:,0:39]\n",
    "DataSet_C = pd.read_csv(path + 'Study_C.csv').iloc[:,0:39]\n",
    "DataSet_D = pd.read_csv(path + 'Study_D.csv').iloc[:,0:39]\n",
    "DataSet_E = pd.read_csv(path + 'Study_E.csv').iloc[:,0:39]\n",
    "\n",
    "Sample_Sub = pd.read_csv(\"DataSets/sample_submission_PANSS.csv\")\n",
    "\n",
    "DataSet_All = pd.concat([DataSet_A, DataSet_B, DataSet_C, DataSet_D, DataSet_E])"
   ]
  },
  {
   "cell_type": "markdown",
   "metadata": {},
   "source": [
    "Creating test & train data - our model predicts the day of last visit and the PANSS_Total"
   ]
  },
  {
   "cell_type": "code",
   "execution_count": 6,
   "metadata": {},
   "outputs": [
    {
     "name": "stdout",
     "output_type": "stream",
     "text": [
      "Done     0.05%\n",
      "Done     5.15%\n",
      "Done    10.24%\n",
      "Done    15.34%\n",
      "Done    20.44%\n",
      "Done    25.54%\n",
      "Done    30.63%\n",
      "Done    35.73%\n",
      "Done    40.83%\n",
      "Done    45.92%\n",
      "Done    51.02%\n",
      "Done    56.12%\n",
      "Done    61.21%\n",
      "Done    66.31%\n",
      "Done    71.41%\n",
      "Done    76.50%\n",
      "Done    81.60%\n",
      "Done    86.70%\n",
      "Done    91.79%\n",
      "Done    96.89%\n",
      "Finished!\n"
     ]
    }
   ],
   "source": [
    "DataSet_E_Test = pd.DataFrame(columns=DataSet_E.columns)\n",
    "DataSet_E_Train = pd.DataFrame(columns=DataSet_E.columns)\n",
    "DataSet_E_AllOutput = DataSet_E.copy()\n",
    "PatientID = -1\n",
    "row_n = -1\n",
    "\n",
    "while row_n + 1 < DataSet_E.shape[0]:\n",
    "    if PatientID != DataSet_E.iloc[row_n + 1][\"PatientID\"]:\n",
    "        if PatientID != -1:\n",
    "            DataSet_E_Test = DataSet_E_Test.append(DataSet_E.iloc[row_n])\n",
    "        PatientID = DataSet_E.iloc[row_n][\"PatientID\"]\n",
    "    else:\n",
    "        DataSet_E_Train = DataSet_E_Train.append(DataSet_E.iloc[row_n])\n",
    "        \n",
    "    print(\"Done %8.2f%%\" % ((row_n+1)/DataSet_E.shape[0] * 100)) if not row_n % 100 else None\n",
    "\n",
    "    row_n += 1\n",
    "    \n",
    "DataSet_E_Test = DataSet_E_Test[DataSet_E_Test[\"VisitDay\"] > 0]\n",
    "\n",
    "DataSet_E_Test = DataSet_E_Test.reset_index()\n",
    "DataSet_E_Train = DataSet_E_Train.reset_index()\n",
    "DataSet_E_AllOutput = DataSet_E_AllOutput.reset_index()\n",
    "\n",
    "Sel_E_Output = DataSet_E_AllOutput[DataSet_E_AllOutput[\"PatientID\"].isin(Sample_Sub[\"PatientID\"])]\n",
    "    \n",
    "print(\"Finished!\")"
   ]
  },
  {
   "cell_type": "markdown",
   "metadata": {},
   "source": [
    "Predicting for the test dataset. Works if testing = 1"
   ]
  },
  {
   "cell_type": "code",
   "execution_count": 13,
   "metadata": {},
   "outputs": [
    {
     "name": "stdout",
     "output_type": "stream",
     "text": [
      "--------------------\n",
      "Progress:     1.34%\n",
      "--------------------\n",
      "Progress:     2.67%\n",
      "--------------------\n",
      "Progress:     4.01%\n",
      "--------------------\n",
      "Progress:     5.35%\n",
      "--------------------\n",
      "Progress:     6.68%\n",
      "--------------------\n",
      "Progress:     8.02%\n",
      "--------------------\n",
      "Progress:     9.36%\n",
      "--------------------\n",
      "Progress:    10.70%\n",
      "--------------------\n",
      "Progress:    12.03%\n",
      "--------------------\n",
      "Progress:    13.37%\n",
      "--------------------\n",
      "Progress:    14.71%\n",
      "--------------------\n",
      "Progress:    16.04%\n",
      "--------------------\n",
      "Progress:    17.38%\n",
      "--------------------\n",
      "Progress:    18.72%\n",
      "--------------------\n",
      "Progress:    20.05%\n",
      "--------------------\n",
      "Progress:    21.39%\n",
      "--------------------\n",
      "Progress:    22.73%\n",
      "--------------------\n",
      "Progress:    24.06%\n",
      "--------------------\n",
      "Progress:    25.40%\n",
      "--------------------\n",
      "Progress:    26.74%\n",
      "--------------------\n",
      "Progress:    28.07%\n",
      "--------------------\n",
      "Progress:    29.41%\n",
      "--------------------\n",
      "Progress:    30.75%\n",
      "--------------------\n",
      "Progress:    32.09%\n",
      "--------------------\n",
      "Progress:    33.42%\n",
      "--------------------\n",
      "Progress:    34.76%\n",
      "--------------------\n",
      "Progress:    36.10%\n",
      "--------------------\n",
      "Progress:    37.43%\n",
      "--------------------\n",
      "Progress:    38.77%\n",
      "--------------------\n",
      "Progress:    40.11%\n",
      "--------------------\n",
      "Progress:    41.44%\n",
      "--------------------\n",
      "Progress:    42.78%\n",
      "--------------------\n",
      "Progress:    44.12%\n",
      "--------------------\n",
      "Progress:    45.45%\n",
      "--------------------\n",
      "Progress:    46.79%\n",
      "--------------------\n",
      "Progress:    48.13%\n",
      "--------------------\n",
      "Progress:    49.47%\n",
      "--------------------\n",
      "Progress:    50.80%\n",
      "--------------------\n",
      "Progress:    52.14%\n",
      "--------------------\n",
      "Progress:    53.48%\n",
      "--------------------\n",
      "Progress:    54.81%\n",
      "--------------------\n",
      "Progress:    56.15%\n",
      "--------------------\n",
      "Progress:    57.49%\n",
      "--------------------\n",
      "Progress:    58.82%\n",
      "--------------------\n",
      "Progress:    60.16%\n",
      "--------------------\n",
      "Progress:    61.50%\n",
      "--------------------\n",
      "Progress:    62.83%\n",
      "--------------------\n",
      "Progress:    64.17%\n",
      "--------------------\n",
      "Progress:    65.51%\n",
      "--------------------\n",
      "Progress:    66.84%\n",
      "--------------------\n",
      "Progress:    68.18%\n",
      "--------------------\n",
      "Progress:    69.52%\n",
      "--------------------\n",
      "Progress:    70.86%\n",
      "--------------------\n",
      "Progress:    72.19%\n",
      "--------------------\n",
      "Progress:    73.53%\n",
      "--------------------\n",
      "Progress:    74.87%\n",
      "--------------------\n",
      "Progress:    76.20%\n",
      "--------------------\n",
      "Progress:    77.54%\n",
      "--------------------\n",
      "Progress:    78.88%\n",
      "--------------------\n",
      "Progress:    80.21%\n",
      "--------------------\n",
      "Progress:    81.55%\n",
      "--------------------\n",
      "Progress:    82.89%\n",
      "--------------------\n",
      "Progress:    84.22%\n",
      "--------------------\n",
      "Progress:    85.56%\n",
      "--------------------\n",
      "Progress:    86.90%\n",
      "--------------------\n",
      "Progress:    88.24%\n",
      "--------------------\n",
      "Progress:    89.57%\n",
      "--------------------\n",
      "Progress:    90.91%\n",
      "--------------------\n",
      "Progress:    92.25%\n",
      "--------------------\n",
      "Progress:    93.58%\n",
      "--------------------\n",
      "Progress:    94.92%\n",
      "--------------------\n",
      "Progress:    96.26%\n",
      "--------------------\n",
      "Progress:    97.59%\n",
      "--------------------\n",
      "Progress:    98.93%\n",
      "Finished!\n"
     ]
    }
   ],
   "source": [
    "Predict_E = pl.SimpleUniqueLinear(DataSet_E_Train.copy()) if testing else None"
   ]
  },
  {
   "cell_type": "markdown",
   "metadata": {},
   "source": [
    "Predicting for the final output"
   ]
  },
  {
   "cell_type": "code",
   "execution_count": null,
   "metadata": {
    "scrolled": false
   },
   "outputs": [],
   "source": [
    "Sel_Predict_E_Output = pl.SimpleUniqueLinear(Sel_E_Output.copy())"
   ]
  },
  {
   "cell_type": "markdown",
   "metadata": {},
   "source": [
    "Calculates the RSS error for the test set"
   ]
  },
  {
   "cell_type": "code",
   "execution_count": 14,
   "metadata": {},
   "outputs": [
    {
     "name": "stdout",
     "output_type": "stream",
     "text": [
      "70.82438135696114\n"
     ]
    }
   ],
   "source": [
    " if testing:\n",
    "    RSS_1 = 0\n",
    "    counter = 1\n",
    "    for PatientID in DataSet_E_Test[\"PatientID\"].unique():\n",
    "        if (Predict_E[\"PatientID\"] == PatientID).sum() != 0:\n",
    "    #         print(RSS_1)\n",
    "    #         print((float(DataSet_E_Test.loc[DataSet_E_Test[\"PatientID\"] == PatientID, \"PANSS_Total\"]) - float(Predict_E.loc[Predict_E[\"PatientID\"] == PatientID, \"Predict\"])) ** 2)\n",
    "            RSS_1 += ((float(DataSet_E_Test.loc[DataSet_E_Test[\"PatientID\"] == PatientID, \"PANSS_Total\"].mean()) - float(Predict_E.loc[Predict_E[\"PatientID\"] == PatientID, \"PANSS_Total\"].mean())) ** 2)\n",
    "    #         print(\"PatientID:{} RSS_1:{}\".format(PatientID, RSS_1 / counter))\n",
    "            counter += 1\n",
    "\n",
    "    RSS_1 = RSS_1 / len(Predict_E[\"PatientID\"].unique())\n",
    "    print(RSS_1)"
   ]
  },
  {
   "cell_type": "code",
   "execution_count": null,
   "metadata": {
    "scrolled": true
   },
   "outputs": [],
   "source": [
    "pl.CompRSS_Previous(Sel_Predict_E_Output, version)"
   ]
  },
  {
   "cell_type": "code",
   "execution_count": null,
   "metadata": {},
   "outputs": [],
   "source": [
    "version += 1\n",
    "Sel_Predict_E_Output.to_csv(\"prediction_{}.csv\".format(version), index=False)"
   ]
  },
  {
   "cell_type": "markdown",
   "metadata": {},
   "source": [
    "Version 1: Simple prediction using k=1 NN if less than 2 observations, otherwise using LinearRegression\n",
    "Version 2: Prediction using k=5 NN, avaraging with LinearRegression if more than 1 observations - int ouput\n",
    "Version 3: "
   ]
  }
 ],
 "metadata": {
  "kernelspec": {
   "display_name": "Python 3",
   "language": "python",
   "name": "python3"
  },
  "language_info": {
   "codemirror_mode": {
    "name": "ipython",
    "version": 3
   },
   "file_extension": ".py",
   "mimetype": "text/x-python",
   "name": "python",
   "nbconvert_exporter": "python",
   "pygments_lexer": "ipython3",
   "version": "3.7.1"
  }
 },
 "nbformat": 4,
 "nbformat_minor": 2
}
