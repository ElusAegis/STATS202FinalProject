{
 "cells": [
  {
   "cell_type": "code",
   "execution_count": 1,
   "metadata": {
    "scrolled": true
   },
   "outputs": [
    {
     "ename": "FileNotFoundError",
     "evalue": "File b'Study_A.csv' does not exist",
     "output_type": "error",
     "traceback": [
      "\u001b[0;31m---------------------------------------------------------------------------\u001b[0m",
      "\u001b[0;31mFileNotFoundError\u001b[0m                         Traceback (most recent call last)",
      "\u001b[0;32m<ipython-input-1-fe040d53bd21>\u001b[0m in \u001b[0;36m<module>\u001b[0;34m\u001b[0m\n\u001b[1;32m     18\u001b[0m \u001b[0;32mimport\u001b[0m \u001b[0mxgboost\u001b[0m \u001b[0;32mas\u001b[0m \u001b[0mxgb\u001b[0m\u001b[0;34m\u001b[0m\u001b[0;34m\u001b[0m\u001b[0m\n\u001b[1;32m     19\u001b[0m \u001b[0;34m\u001b[0m\u001b[0m\n\u001b[0;32m---> 20\u001b[0;31m \u001b[0;32mimport\u001b[0m \u001b[0mdatasets\u001b[0m \u001b[0;32mas\u001b[0m \u001b[0mk\u001b[0m\u001b[0;34m\u001b[0m\u001b[0;34m\u001b[0m\u001b[0m\n\u001b[0m",
      "\u001b[0;32m~/Downloads/datasets.py\u001b[0m in \u001b[0;36m<module>\u001b[0;34m\u001b[0m\n\u001b[1;32m     19\u001b[0m \u001b[0;31m#importlib.reload(d)\u001b[0m\u001b[0;34m\u001b[0m\u001b[0;34m\u001b[0m\u001b[0;34m\u001b[0m\u001b[0m\n\u001b[1;32m     20\u001b[0m \u001b[0;34m\u001b[0m\u001b[0m\n\u001b[0;32m---> 21\u001b[0;31m \u001b[0mstudy_a\u001b[0m \u001b[0;34m=\u001b[0m \u001b[0mpd\u001b[0m\u001b[0;34m.\u001b[0m\u001b[0mread_csv\u001b[0m\u001b[0;34m(\u001b[0m\u001b[0;34m\"Study_A.csv\"\u001b[0m\u001b[0;34m)\u001b[0m\u001b[0;34m\u001b[0m\u001b[0;34m\u001b[0m\u001b[0m\n\u001b[0m\u001b[1;32m     22\u001b[0m \u001b[0mstudy_b\u001b[0m \u001b[0;34m=\u001b[0m \u001b[0mpd\u001b[0m\u001b[0;34m.\u001b[0m\u001b[0mread_csv\u001b[0m\u001b[0;34m(\u001b[0m\u001b[0;34m\"Study_B.csv\"\u001b[0m\u001b[0;34m)\u001b[0m\u001b[0;34m\u001b[0m\u001b[0;34m\u001b[0m\u001b[0m\n\u001b[1;32m     23\u001b[0m \u001b[0mstudy_c\u001b[0m \u001b[0;34m=\u001b[0m \u001b[0mpd\u001b[0m\u001b[0;34m.\u001b[0m\u001b[0mread_csv\u001b[0m\u001b[0;34m(\u001b[0m\u001b[0;34m\"Study_C.csv\"\u001b[0m\u001b[0;34m)\u001b[0m\u001b[0;34m\u001b[0m\u001b[0;34m\u001b[0m\u001b[0m\n",
      "\u001b[0;32m~/anaconda3/lib/python3.7/site-packages/pandas/io/parsers.py\u001b[0m in \u001b[0;36mparser_f\u001b[0;34m(filepath_or_buffer, sep, delimiter, header, names, index_col, usecols, squeeze, prefix, mangle_dupe_cols, dtype, engine, converters, true_values, false_values, skipinitialspace, skiprows, nrows, na_values, keep_default_na, na_filter, verbose, skip_blank_lines, parse_dates, infer_datetime_format, keep_date_col, date_parser, dayfirst, iterator, chunksize, compression, thousands, decimal, lineterminator, quotechar, quoting, escapechar, comment, encoding, dialect, tupleize_cols, error_bad_lines, warn_bad_lines, skipfooter, doublequote, delim_whitespace, low_memory, memory_map, float_precision)\u001b[0m\n\u001b[1;32m    676\u001b[0m                     skip_blank_lines=skip_blank_lines)\n\u001b[1;32m    677\u001b[0m \u001b[0;34m\u001b[0m\u001b[0m\n\u001b[0;32m--> 678\u001b[0;31m         \u001b[0;32mreturn\u001b[0m \u001b[0m_read\u001b[0m\u001b[0;34m(\u001b[0m\u001b[0mfilepath_or_buffer\u001b[0m\u001b[0;34m,\u001b[0m \u001b[0mkwds\u001b[0m\u001b[0;34m)\u001b[0m\u001b[0;34m\u001b[0m\u001b[0;34m\u001b[0m\u001b[0m\n\u001b[0m\u001b[1;32m    679\u001b[0m \u001b[0;34m\u001b[0m\u001b[0m\n\u001b[1;32m    680\u001b[0m     \u001b[0mparser_f\u001b[0m\u001b[0;34m.\u001b[0m\u001b[0m__name__\u001b[0m \u001b[0;34m=\u001b[0m \u001b[0mname\u001b[0m\u001b[0;34m\u001b[0m\u001b[0;34m\u001b[0m\u001b[0m\n",
      "\u001b[0;32m~/anaconda3/lib/python3.7/site-packages/pandas/io/parsers.py\u001b[0m in \u001b[0;36m_read\u001b[0;34m(filepath_or_buffer, kwds)\u001b[0m\n\u001b[1;32m    438\u001b[0m \u001b[0;34m\u001b[0m\u001b[0m\n\u001b[1;32m    439\u001b[0m     \u001b[0;31m# Create the parser.\u001b[0m\u001b[0;34m\u001b[0m\u001b[0;34m\u001b[0m\u001b[0;34m\u001b[0m\u001b[0m\n\u001b[0;32m--> 440\u001b[0;31m     \u001b[0mparser\u001b[0m \u001b[0;34m=\u001b[0m \u001b[0mTextFileReader\u001b[0m\u001b[0;34m(\u001b[0m\u001b[0mfilepath_or_buffer\u001b[0m\u001b[0;34m,\u001b[0m \u001b[0;34m**\u001b[0m\u001b[0mkwds\u001b[0m\u001b[0;34m)\u001b[0m\u001b[0;34m\u001b[0m\u001b[0;34m\u001b[0m\u001b[0m\n\u001b[0m\u001b[1;32m    441\u001b[0m \u001b[0;34m\u001b[0m\u001b[0m\n\u001b[1;32m    442\u001b[0m     \u001b[0;32mif\u001b[0m \u001b[0mchunksize\u001b[0m \u001b[0;32mor\u001b[0m \u001b[0miterator\u001b[0m\u001b[0;34m:\u001b[0m\u001b[0;34m\u001b[0m\u001b[0;34m\u001b[0m\u001b[0m\n",
      "\u001b[0;32m~/anaconda3/lib/python3.7/site-packages/pandas/io/parsers.py\u001b[0m in \u001b[0;36m__init__\u001b[0;34m(self, f, engine, **kwds)\u001b[0m\n\u001b[1;32m    785\u001b[0m             \u001b[0mself\u001b[0m\u001b[0;34m.\u001b[0m\u001b[0moptions\u001b[0m\u001b[0;34m[\u001b[0m\u001b[0;34m'has_index_names'\u001b[0m\u001b[0;34m]\u001b[0m \u001b[0;34m=\u001b[0m \u001b[0mkwds\u001b[0m\u001b[0;34m[\u001b[0m\u001b[0;34m'has_index_names'\u001b[0m\u001b[0;34m]\u001b[0m\u001b[0;34m\u001b[0m\u001b[0;34m\u001b[0m\u001b[0m\n\u001b[1;32m    786\u001b[0m \u001b[0;34m\u001b[0m\u001b[0m\n\u001b[0;32m--> 787\u001b[0;31m         \u001b[0mself\u001b[0m\u001b[0;34m.\u001b[0m\u001b[0m_make_engine\u001b[0m\u001b[0;34m(\u001b[0m\u001b[0mself\u001b[0m\u001b[0;34m.\u001b[0m\u001b[0mengine\u001b[0m\u001b[0;34m)\u001b[0m\u001b[0;34m\u001b[0m\u001b[0;34m\u001b[0m\u001b[0m\n\u001b[0m\u001b[1;32m    788\u001b[0m \u001b[0;34m\u001b[0m\u001b[0m\n\u001b[1;32m    789\u001b[0m     \u001b[0;32mdef\u001b[0m \u001b[0mclose\u001b[0m\u001b[0;34m(\u001b[0m\u001b[0mself\u001b[0m\u001b[0;34m)\u001b[0m\u001b[0;34m:\u001b[0m\u001b[0;34m\u001b[0m\u001b[0;34m\u001b[0m\u001b[0m\n",
      "\u001b[0;32m~/anaconda3/lib/python3.7/site-packages/pandas/io/parsers.py\u001b[0m in \u001b[0;36m_make_engine\u001b[0;34m(self, engine)\u001b[0m\n\u001b[1;32m   1012\u001b[0m     \u001b[0;32mdef\u001b[0m \u001b[0m_make_engine\u001b[0m\u001b[0;34m(\u001b[0m\u001b[0mself\u001b[0m\u001b[0;34m,\u001b[0m \u001b[0mengine\u001b[0m\u001b[0;34m=\u001b[0m\u001b[0;34m'c'\u001b[0m\u001b[0;34m)\u001b[0m\u001b[0;34m:\u001b[0m\u001b[0;34m\u001b[0m\u001b[0;34m\u001b[0m\u001b[0m\n\u001b[1;32m   1013\u001b[0m         \u001b[0;32mif\u001b[0m \u001b[0mengine\u001b[0m \u001b[0;34m==\u001b[0m \u001b[0;34m'c'\u001b[0m\u001b[0;34m:\u001b[0m\u001b[0;34m\u001b[0m\u001b[0;34m\u001b[0m\u001b[0m\n\u001b[0;32m-> 1014\u001b[0;31m             \u001b[0mself\u001b[0m\u001b[0;34m.\u001b[0m\u001b[0m_engine\u001b[0m \u001b[0;34m=\u001b[0m \u001b[0mCParserWrapper\u001b[0m\u001b[0;34m(\u001b[0m\u001b[0mself\u001b[0m\u001b[0;34m.\u001b[0m\u001b[0mf\u001b[0m\u001b[0;34m,\u001b[0m \u001b[0;34m**\u001b[0m\u001b[0mself\u001b[0m\u001b[0;34m.\u001b[0m\u001b[0moptions\u001b[0m\u001b[0;34m)\u001b[0m\u001b[0;34m\u001b[0m\u001b[0;34m\u001b[0m\u001b[0m\n\u001b[0m\u001b[1;32m   1015\u001b[0m         \u001b[0;32melse\u001b[0m\u001b[0;34m:\u001b[0m\u001b[0;34m\u001b[0m\u001b[0;34m\u001b[0m\u001b[0m\n\u001b[1;32m   1016\u001b[0m             \u001b[0;32mif\u001b[0m \u001b[0mengine\u001b[0m \u001b[0;34m==\u001b[0m \u001b[0;34m'python'\u001b[0m\u001b[0;34m:\u001b[0m\u001b[0;34m\u001b[0m\u001b[0;34m\u001b[0m\u001b[0m\n",
      "\u001b[0;32m~/anaconda3/lib/python3.7/site-packages/pandas/io/parsers.py\u001b[0m in \u001b[0;36m__init__\u001b[0;34m(self, src, **kwds)\u001b[0m\n\u001b[1;32m   1706\u001b[0m         \u001b[0mkwds\u001b[0m\u001b[0;34m[\u001b[0m\u001b[0;34m'usecols'\u001b[0m\u001b[0;34m]\u001b[0m \u001b[0;34m=\u001b[0m \u001b[0mself\u001b[0m\u001b[0;34m.\u001b[0m\u001b[0musecols\u001b[0m\u001b[0;34m\u001b[0m\u001b[0;34m\u001b[0m\u001b[0m\n\u001b[1;32m   1707\u001b[0m \u001b[0;34m\u001b[0m\u001b[0m\n\u001b[0;32m-> 1708\u001b[0;31m         \u001b[0mself\u001b[0m\u001b[0;34m.\u001b[0m\u001b[0m_reader\u001b[0m \u001b[0;34m=\u001b[0m \u001b[0mparsers\u001b[0m\u001b[0;34m.\u001b[0m\u001b[0mTextReader\u001b[0m\u001b[0;34m(\u001b[0m\u001b[0msrc\u001b[0m\u001b[0;34m,\u001b[0m \u001b[0;34m**\u001b[0m\u001b[0mkwds\u001b[0m\u001b[0;34m)\u001b[0m\u001b[0;34m\u001b[0m\u001b[0;34m\u001b[0m\u001b[0m\n\u001b[0m\u001b[1;32m   1709\u001b[0m \u001b[0;34m\u001b[0m\u001b[0m\n\u001b[1;32m   1710\u001b[0m         \u001b[0mpassed_names\u001b[0m \u001b[0;34m=\u001b[0m \u001b[0mself\u001b[0m\u001b[0;34m.\u001b[0m\u001b[0mnames\u001b[0m \u001b[0;32mis\u001b[0m \u001b[0;32mNone\u001b[0m\u001b[0;34m\u001b[0m\u001b[0;34m\u001b[0m\u001b[0m\n",
      "\u001b[0;32mpandas/_libs/parsers.pyx\u001b[0m in \u001b[0;36mpandas._libs.parsers.TextReader.__cinit__\u001b[0;34m()\u001b[0m\n",
      "\u001b[0;32mpandas/_libs/parsers.pyx\u001b[0m in \u001b[0;36mpandas._libs.parsers.TextReader._setup_parser_source\u001b[0;34m()\u001b[0m\n",
      "\u001b[0;31mFileNotFoundError\u001b[0m: File b'Study_A.csv' does not exist"
     ]
    }
   ],
   "source": [
    "import warnings\n",
    "warnings.filterwarnings(\"ignore\")\n",
    "import random\n",
    "random.seed(100)\n",
    "\n",
    "import pandas as pd\n",
    "import numpy as np\n",
    "from scipy import stats\n",
    "\n",
    "import seaborn as sns\n",
    "import matplotlib.pyplot as plt\n",
    "from matplotlib import pyplot\n",
    "\n",
    "from sklearn.model_selection import StratifiedKFold, GridSearchCV, train_test_split, cross_val_score, GridSearchCV\n",
    "from xgboost import XGBClassifier\n",
    "from xgboost import plot_importance\n",
    "import statsmodels.formula.api as sm\n",
    "import xgboost as xgb\n",
    "\n",
    "import datasets as k"
   ]
  },
  {
   "cell_type": "code",
   "execution_count": 2,
   "metadata": {},
   "outputs": [],
   "source": [
    "DataSet_A = pd.read_csv(\"Study_A.csv\")\n",
    "DataSet_B = pd.read_csv(\"Study_B.csv\")\n",
    "DataSet_C = pd.read_csv(\"Study_C.csv\")\n",
    "DataSet_D = pd.read_csv(\"Study_D.csv\")\n",
    "DataSet_E = pd.read_csv(\"Study_E.csv\")\n",
    "\n",
    "DataSet_E[\"LeadStatus\"] = None\n",
    "DataSet_All = pd.concat([DataSet_A, DataSet_B, DataSet_C, DataSet_D, DataSet_E])"
   ]
  },
  {
   "cell_type": "code",
   "execution_count": 3,
   "metadata": {},
   "outputs": [],
   "source": [
    "DataSet_All[\"POSS\"] = DataSet_All.iloc[:, 8:15].sum(axis=1)\n",
    "DataSet_All[\"NEGG\"] = DataSet_All.iloc[:, 15:22].sum(axis=1)\n",
    "DataSet_All[\"GENR\"] = DataSet_All.iloc[:, 22:38].sum(axis=1)\n",
    "DataSet_All[\"COMP\"] = DataSet_All[\"POSS\"] - DataSet_All[\"NEGG\"]\n",
    "\n",
    "DataSet_All_Long = DataSet_All[DataSet_All[\"VisitDay\"]>=90]\n",
    "DataSet_All_Short = DataSet_All[DataSet_All[\"VisitDay\"]<90]"
   ]
  },
  {
   "cell_type": "code",
   "execution_count": 4,
   "metadata": {},
   "outputs": [],
   "source": [
    "def find_diff(DataSet, obser_t):\n",
    "    patient_id = DataSet.iloc[0][\"PatientID\"]\n",
    "    last_obser = None\n",
    "    last_day = None\n",
    "    change_array = {\"Control\":[], \"Treatment\":[]}\n",
    "    \n",
    "    for i in range(DataSet.shape[0]):\n",
    "        if last_obser == None:\n",
    "            last_obser = DataSet.iloc[i][obser_t]\n",
    "            last_day = DataSet.iloc[i][\"VisitDay\"]\n",
    "            patient_id = DataSet.iloc[i][\"PatientID\"]           \n",
    "        elif patient_id == DataSet.iloc[i][\"PatientID\"]:\n",
    "             #print((DataSet.iloc[i][\"VisitDay\"] - last_day) / float(last_obser - DataSet.iloc[i][obser_t]))\n",
    "            if (DataSet.iloc[i][\"VisitDay\"] != last_day):\n",
    "                change_array[DataSet.iloc[i][\"TxGroup\"]] += [float(last_obser - DataSet.iloc[i][obser_t]) / (DataSet.iloc[i][\"VisitDay\"] - last_day)]\n",
    "            last_obser = DataSet.iloc[i][obser_t]\n",
    "            last_day = DataSet.iloc[i][\"VisitDay\"]         \n",
    "        else:\n",
    "            last_obser = DataSet.iloc[i][obser_t]\n",
    "            patient_id = DataSet.iloc[i][\"PatientID\"]\n",
    "            last_day = DataSet.iloc[i][\"VisitDay\"]\n",
    "    change_array[\"Control\"] = np.array(change_array[\"Control\"])\n",
    "    change_array[\"Treatment\"] = np.array(change_array[\"Treatment\"])        \n",
    "    return change_array"
   ]
  },
  {
   "cell_type": "code",
   "execution_count": 5,
   "metadata": {},
   "outputs": [],
   "source": [
    "def SimpleMeanMovementPTesting(DataSet):\n",
    "    ChangeDict_All = find_diff(DataSet, \"PANSS_Total\")\n",
    "    print(\"PANSS_Total\")\n",
    "    print(\"MEAN:\")\n",
    "    print((ChangeDict_All[\"Treatment\"]).mean(), (ChangeDict_All[\"Control\"]).mean())\n",
    "    print(\"T-TEST:\")\n",
    "    print(stats.ttest_ind(ChangeDict_All[\"Treatment\"],ChangeDict_All[\"Control\"]))\n",
    "    ChangeDict_All = find_diff(DataSet, \"POSS\")\n",
    "    print(\"POSS\")\n",
    "    print(\"MEAN:\")\n",
    "    print((ChangeDict_All[\"Treatment\"]).mean(), (ChangeDict_All[\"Control\"]).mean())\n",
    "    print(\"T-TEST:\")\n",
    "    print(stats.ttest_ind(ChangeDict_All[\"Treatment\"],ChangeDict_All[\"Control\"]))\n",
    "    ChangeDict_All = find_diff(DataSet, \"NEGG\")\n",
    "    print(\"NEGG\")\n",
    "    print(\"MEAN:\")\n",
    "    print((ChangeDict_All[\"Treatment\"]).mean(), (ChangeDict_All[\"Control\"]).mean())\n",
    "    print(\"T-TEST:\")\n",
    "    print(stats.ttest_ind(ChangeDict_All[\"Treatment\"],ChangeDict_All[\"Control\"]))\n",
    "    ChangeDict_All = find_diff(DataSet, \"GENR\")\n",
    "    print(\"GENR\")\n",
    "    print(\"MEAN:\")\n",
    "    print((ChangeDict_All[\"Treatment\"]).mean(), (ChangeDict_All[\"Control\"]).mean())\n",
    "    print(\"T-TEST:\")\n",
    "    print(stats.ttest_ind(ChangeDict_All[\"Treatment\"],ChangeDict_All[\"Control\"]))\n",
    "    ChangeDict_All = find_diff(DataSet, \"COMP\")\n",
    "    print(\"COMP\")\n",
    "    print(\"MEAN:\")\n",
    "    print((ChangeDict_All[\"Treatment\"]).mean(), (ChangeDict_All[\"Control\"]).mean())\n",
    "    print(\"T-TEST:\")\n",
    "    print(stats.ttest_ind(ChangeDict_All[\"Treatment\"],ChangeDict_All[\"Control\"]))\n",
    "    return True"
   ]
  },
  {
   "cell_type": "code",
   "execution_count": 6,
   "metadata": {},
   "outputs": [
    {
     "name": "stdout",
     "output_type": "stream",
     "text": [
      "PANSS_Total\n",
      "MEAN:\n",
      "0.04698912664863048 0.03468947900246608\n",
      "T-TEST:\n",
      "Ttest_indResult(statistic=0.5556970399644168, pvalue=0.578434573610372)\n",
      "POSS\n",
      "MEAN:\n",
      "0.010783449584150633 0.0038102687531378367\n",
      "T-TEST:\n",
      "Ttest_indResult(statistic=0.9986511311772542, pvalue=0.3179959741926303)\n",
      "NEGG\n",
      "MEAN:\n",
      "0.009086992525855146 0.013058404659184522\n",
      "T-TEST:\n",
      "Ttest_indResult(statistic=-0.7034601700247184, pvalue=0.48179088039116325)\n",
      "GENR\n",
      "MEAN:\n",
      "0.027118684538624697 0.017820805590143714\n",
      "T-TEST:\n",
      "Ttest_indResult(statistic=0.7448619629841454, pvalue=0.4563785358008079)\n",
      "COMP\n",
      "MEAN:\n",
      "0.0016964570582954858 -0.009248135906046687\n",
      "T-TEST:\n",
      "Ttest_indResult(statistic=1.641321923422913, pvalue=0.10077258139365106)\n"
     ]
    },
    {
     "data": {
      "text/plain": [
       "True"
      ]
     },
     "execution_count": 6,
     "metadata": {},
     "output_type": "execute_result"
    }
   ],
   "source": [
    "# Over 90 days\n",
    "SimpleMeanMovementPTesting(DataSet_All_Long)"
   ]
  },
  {
   "cell_type": "code",
   "execution_count": 7,
   "metadata": {},
   "outputs": [
    {
     "name": "stdout",
     "output_type": "stream",
     "text": [
      "PANSS_Total\n",
      "MEAN:\n",
      "0.32361296460178696 0.3401329834564672\n",
      "T-TEST:\n",
      "Ttest_indResult(statistic=-0.8324841102001396, pvalue=0.405154859140086)\n",
      "POSS\n",
      "MEAN:\n",
      "0.11156039466269299 0.11607997481604225\n",
      "T-TEST:\n",
      "Ttest_indResult(statistic=-0.6343324893369096, pvalue=0.52587781007945)\n",
      "NEGG\n",
      "MEAN:\n",
      "0.0590583162391867 0.06134845586714292\n",
      "T-TEST:\n",
      "Ttest_indResult(statistic=-0.3774516324802083, pvalue=0.7058457044238515)\n",
      "GENR\n",
      "MEAN:\n",
      "0.15299425369990727 0.16270455277328205\n",
      "T-TEST:\n",
      "Ttest_indResult(statistic=-0.8787065959620642, pvalue=0.37958068205514783)\n",
      "COMP\n",
      "MEAN:\n",
      "0.052502078423506286 0.05473151894889932\n",
      "T-TEST:\n",
      "Ttest_indResult(statistic=-0.2902940297659159, pvalue=0.7715970937135274)\n"
     ]
    },
    {
     "data": {
      "text/plain": [
       "True"
      ]
     },
     "execution_count": 7,
     "metadata": {},
     "output_type": "execute_result"
    }
   ],
   "source": [
    "# Less than 90 days\n",
    "SimpleMeanMovementPTesting(DataSet_All_Short)"
   ]
  },
  {
   "cell_type": "code",
   "execution_count": 8,
   "metadata": {},
   "outputs": [
    {
     "name": "stdout",
     "output_type": "stream",
     "text": [
      "PANSS_Total\n",
      "MEAN:\n",
      "0.1984569855142746 0.2034089176277427\n",
      "T-TEST:\n",
      "Ttest_indResult(statistic=-0.3631195063185887, pvalue=0.7165195091840634)\n",
      "POSS\n",
      "MEAN:\n",
      "0.0652193851683668 0.06595045992280872\n",
      "T-TEST:\n",
      "Ttest_indResult(statistic=-0.15619442602055378, pvalue=0.8758813704290924)\n",
      "NEGG\n",
      "MEAN:\n",
      "0.0371588547290111 0.03945087836761666\n",
      "T-TEST:\n",
      "Ttest_indResult(statistic=-0.5890565256271992, pvalue=0.5558301089383373)\n",
      "GENR\n",
      "MEAN:\n",
      "0.0960787456168967 0.0980075793373173\n",
      "T-TEST:\n",
      "Ttest_indResult(statistic=-0.25341848159178404, pvalue=0.7999474914807111)\n",
      "COMP\n",
      "MEAN:\n",
      "0.028060530439355694 0.026499581555192053\n",
      "T-TEST:\n",
      "Ttest_indResult(statistic=0.3234235996002911, pvalue=0.7463778917087067)\n"
     ]
    },
    {
     "data": {
      "text/plain": [
       "True"
      ]
     },
     "execution_count": 8,
     "metadata": {},
     "output_type": "execute_result"
    }
   ],
   "source": [
    "# All Data\n",
    "SimpleMeanMovementPTesting(DataSet_All)"
   ]
  },
  {
   "cell_type": "markdown",
   "metadata": {},
   "source": [
    "# Treatment group"
   ]
  },
  {
   "cell_type": "code",
   "execution_count": 3,
   "metadata": {},
   "outputs": [
    {
     "ename": "NameError",
     "evalue": "name 'k' is not defined",
     "output_type": "error",
     "traceback": [
      "\u001b[0;31m---------------------------------------------------------------------------\u001b[0m",
      "\u001b[0;31mNameError\u001b[0m                                 Traceback (most recent call last)",
      "\u001b[0;32m<ipython-input-3-32862d0e4783>\u001b[0m in \u001b[0;36m<module>\u001b[0;34m\u001b[0m\n\u001b[0;32m----> 1\u001b[0;31m \u001b[0mx\u001b[0m\u001b[0;34m,\u001b[0m\u001b[0my\u001b[0m\u001b[0;34m,\u001b[0m\u001b[0me\u001b[0m \u001b[0;34m=\u001b[0m \u001b[0mk\u001b[0m\u001b[0;34m.\u001b[0m\u001b[0mq4\u001b[0m\u001b[0;34m(\u001b[0m\u001b[0;34m)\u001b[0m\u001b[0;34m\u001b[0m\u001b[0;34m\u001b[0m\u001b[0m\n\u001b[0m\u001b[1;32m      2\u001b[0m \u001b[0mdata\u001b[0m \u001b[0;34m=\u001b[0m \u001b[0mpd\u001b[0m\u001b[0;34m.\u001b[0m\u001b[0mconcat\u001b[0m\u001b[0;34m(\u001b[0m\u001b[0;34m[\u001b[0m\u001b[0mx\u001b[0m\u001b[0;34m,\u001b[0m\u001b[0me\u001b[0m\u001b[0;34m]\u001b[0m\u001b[0;34m,\u001b[0m \u001b[0maxis\u001b[0m\u001b[0;34m=\u001b[0m\u001b[0;36m0\u001b[0m\u001b[0;34m)\u001b[0m\u001b[0;34m\u001b[0m\u001b[0;34m\u001b[0m\u001b[0m\n",
      "\u001b[0;31mNameError\u001b[0m: name 'k' is not defined"
     ]
    }
   ],
   "source": [
    "x,y,e = k.q4()\n",
    "data = pd.concat([x,e], axis=0)"
   ]
  },
  {
   "cell_type": "code",
   "execution_count": 4,
   "metadata": {
    "scrolled": false
   },
   "outputs": [
    {
     "ename": "NameError",
     "evalue": "name 'data' is not defined",
     "output_type": "error",
     "traceback": [
      "\u001b[0;31m---------------------------------------------------------------------------\u001b[0m",
      "\u001b[0;31mNameError\u001b[0m                                 Traceback (most recent call last)",
      "\u001b[0;32m<ipython-input-4-6b3cec73ffc1>\u001b[0m in \u001b[0;36m<module>\u001b[0;34m\u001b[0m\n\u001b[0;32m----> 1\u001b[0;31m \u001b[0msns\u001b[0m\u001b[0;34m.\u001b[0m\u001b[0mscatterplot\u001b[0m\u001b[0;34m(\u001b[0m\u001b[0;34m\"VisitDay\"\u001b[0m\u001b[0;34m,\u001b[0m \u001b[0;34m\"PANSS_Total\"\u001b[0m\u001b[0;34m,\u001b[0m \u001b[0mdata\u001b[0m\u001b[0;34m=\u001b[0m\u001b[0mdata\u001b[0m\u001b[0;34m,\u001b[0m \u001b[0mhue\u001b[0m\u001b[0;34m=\u001b[0m\u001b[0;34m\"TxGroup\"\u001b[0m\u001b[0;34m)\u001b[0m\u001b[0;34m\u001b[0m\u001b[0;34m\u001b[0m\u001b[0m\n\u001b[0m",
      "\u001b[0;31mNameError\u001b[0m: name 'data' is not defined"
     ]
    }
   ],
   "source": [
    "sns.scatterplot(\"VisitDay\", \"PANSS_Total\", data=data, hue=\"TxGroup\")"
   ]
  },
  {
   "cell_type": "markdown",
   "metadata": {},
   "source": [
    "# Regression with variables TxGroup and Visit Day ~ PANSS Total"
   ]
  },
  {
   "cell_type": "code",
   "execution_count": 32,
   "metadata": {},
   "outputs": [],
   "source": [
    "cols = [\"TxGroup\",'VisitDay']\n",
    "datax = data[cols]\n",
    "datay = data[\"PANSS_Total\"]"
   ]
  },
  {
   "cell_type": "code",
   "execution_count": 33,
   "metadata": {
    "scrolled": false
   },
   "outputs": [
    {
     "name": "stdout",
     "output_type": "stream",
     "text": [
      "                            OLS Regression Results                            \n",
      "==============================================================================\n",
      "Dep. Variable:            PANSS_Total   R-squared:                       0.022\n",
      "Model:                            OLS   Adj. R-squared:                  0.022\n",
      "Method:                 Least Squares   F-statistic:                     256.5\n",
      "Date:                Tue, 13 Aug 2019   Prob (F-statistic):          6.67e-111\n",
      "Time:                        17:54:35   Log-Likelihood:            -1.3073e+05\n",
      "No. Observations:               22909   AIC:                         2.615e+05\n",
      "Df Residuals:                   22907   BIC:                         2.615e+05\n",
      "Df Model:                           2                                         \n",
      "Covariance Type:            nonrobust                                         \n",
      "==============================================================================\n",
      "                 coef    std err          t      P>|t|      [0.025      0.975]\n",
      "------------------------------------------------------------------------------\n",
      "TxGroup        0.0852      0.481      0.177      0.859      -0.857       1.028\n",
      "VisitDay     -10.8913      0.481    -22.650      0.000     -11.834      -9.949\n",
      "==============================================================================\n",
      "Omnibus:                      420.452   Durbin-Watson:                   0.020\n",
      "Prob(Omnibus):                  0.000   Jarque-Bera (JB):              481.787\n",
      "Skew:                           0.289   Prob(JB):                    2.41e-105\n",
      "Kurtosis:                       3.413   Cond. No.                         1.01\n",
      "==============================================================================\n",
      "\n",
      "Warnings:\n",
      "[1] Standard Errors assume that the covariance matrix of the errors is correctly specified.\n"
     ]
    }
   ],
   "source": [
    "#Normalizing data\n",
    "datax =(datax-datax.mean())/datax.std()\n",
    "results = sm.OLS(datay, datax).fit()\n",
    "print(results.summary())"
   ]
  },
  {
   "cell_type": "code",
   "execution_count": 35,
   "metadata": {},
   "outputs": [
    {
     "name": "stdout",
     "output_type": "stream",
     "text": [
      "                            OLS Regression Results                            \n",
      "==============================================================================\n",
      "Dep. Variable:            PANSS_Total   R-squared:                       0.036\n",
      "Model:                            OLS   Adj. R-squared:                  0.035\n",
      "Method:                 Least Squares   F-statistic:                     169.2\n",
      "Date:                Tue, 13 Aug 2019   Prob (F-statistic):          2.23e-177\n",
      "Time:                        17:54:51   Log-Likelihood:            -1.3056e+05\n",
      "No. Observations:               22909   AIC:                         2.611e+05\n",
      "Df Residuals:                   22904   BIC:                         2.612e+05\n",
      "Df Model:                           5                                         \n",
      "Covariance Type:            nonrobust                                         \n",
      "================================================================================\n",
      "                   coef    std err          t      P>|t|      [0.025      0.975]\n",
      "--------------------------------------------------------------------------------\n",
      "TxGroup          0.2600      0.478      0.544      0.586      -0.676       1.196\n",
      "VisitDay        -8.6673      0.494    -17.539      0.000      -9.636      -7.699\n",
      "Country_Mean     0.3108      0.609      0.510      0.610      -0.884       1.505\n",
      "Rater_Mean       8.0832      1.176      6.876      0.000       5.779      10.387\n",
      "Site_Mean        0.6963      1.223      0.569      0.569      -1.701       3.093\n",
      "==============================================================================\n",
      "Omnibus:                      558.416   Durbin-Watson:                   0.019\n",
      "Prob(Omnibus):                  0.000   Jarque-Bera (JB):              807.387\n",
      "Skew:                           0.270   Prob(JB):                    4.77e-176\n",
      "Kurtosis:                       3.745   Cond. No.                         5.42\n",
      "==============================================================================\n",
      "\n",
      "Warnings:\n",
      "[1] Standard Errors assume that the covariance matrix of the errors is correctly specified.\n"
     ]
    }
   ],
   "source": [
    "cols = [\"TxGroup\",'VisitDay', 'Country_Mean', 'Rater_Mean', 'Site_Mean']\n",
    "datax = data[cols]\n",
    "datay = data[\"PANSS_Total\"]\n",
    "#Normalizing data\n",
    "datax =(datax-datax.mean())/datax.std()\n",
    "results = sm.OLS(datay, datax).fit()\n",
    "print(results.summary())"
   ]
  },
  {
   "cell_type": "markdown",
   "metadata": {},
   "source": [
    "# Regression with interaction variables and predicting each score"
   ]
  },
  {
   "cell_type": "code",
   "execution_count": 2,
   "metadata": {},
   "outputs": [
    {
     "ename": "NameError",
     "evalue": "name 'data' is not defined",
     "output_type": "error",
     "traceback": [
      "\u001b[0;31m---------------------------------------------------------------------------\u001b[0m",
      "\u001b[0;31mNameError\u001b[0m                                 Traceback (most recent call last)",
      "\u001b[0;32m<ipython-input-2-3f2a140846d5>\u001b[0m in \u001b[0;36m<module>\u001b[0;34m\u001b[0m\n\u001b[1;32m      1\u001b[0m \u001b[0mcols\u001b[0m \u001b[0;34m=\u001b[0m \u001b[0;34m[\u001b[0m\u001b[0;34m\"TxGroup\"\u001b[0m\u001b[0;34m,\u001b[0m\u001b[0;34m'VisitDay'\u001b[0m\u001b[0;34m,\u001b[0m \u001b[0;34m'Country_Mean'\u001b[0m\u001b[0;34m,\u001b[0m \u001b[0;34m'Rater_Mean'\u001b[0m\u001b[0;34m,\u001b[0m \u001b[0;34m'Site_Mean'\u001b[0m\u001b[0;34m]\u001b[0m\u001b[0;34m\u001b[0m\u001b[0;34m\u001b[0m\u001b[0m\n\u001b[0;32m----> 2\u001b[0;31m \u001b[0mdatax\u001b[0m \u001b[0;34m=\u001b[0m \u001b[0mdata\u001b[0m\u001b[0;34m[\u001b[0m\u001b[0mcols\u001b[0m\u001b[0;34m]\u001b[0m\u001b[0;34m\u001b[0m\u001b[0;34m\u001b[0m\u001b[0m\n\u001b[0m\u001b[1;32m      3\u001b[0m \u001b[0mscores\u001b[0m \u001b[0;34m=\u001b[0m\u001b[0;34m[\u001b[0m\u001b[0;34m'P5'\u001b[0m\u001b[0;34m,\u001b[0m \u001b[0;34m'N6'\u001b[0m\u001b[0;34m,\u001b[0m \u001b[0;34m'G3'\u001b[0m\u001b[0;34m,\u001b[0m \u001b[0;34m'G5'\u001b[0m\u001b[0;34m,\u001b[0m \u001b[0;34m'Bipolar_index'\u001b[0m\u001b[0;34m,\u001b[0m \u001b[0;34m\"Pos_Total\"\u001b[0m\u001b[0;34m,\u001b[0m \u001b[0;34m\"Neg_Total\"\u001b[0m\u001b[0;34m]\u001b[0m\u001b[0;34m\u001b[0m\u001b[0;34m\u001b[0m\u001b[0m\n",
      "\u001b[0;31mNameError\u001b[0m: name 'data' is not defined"
     ]
    }
   ],
   "source": [
    "cols = [\"TxGroup\",'VisitDay', 'Country_Mean', 'Rater_Mean', 'Site_Mean']\n",
    "datax = data[cols]\n",
    "scores =['P5', 'N6', 'G3', 'G5', 'Bipolar_index', \"Pos_Total\", \"Neg_Total\"]"
   ]
  },
  {
   "cell_type": "code",
   "execution_count": 16,
   "metadata": {},
   "outputs": [
    {
     "name": "stdout",
     "output_type": "stream",
     "text": [
      "                            OLS Regression Results                            \n",
      "==============================================================================\n",
      "Dep. Variable:                     P5   R-squared:                       0.074\n",
      "Model:                            OLS   Adj. R-squared:                  0.074\n",
      "Method:                 Least Squares   F-statistic:                     306.7\n",
      "Date:                Tue, 13 Aug 2019   Prob (F-statistic):               0.00\n",
      "Time:                        17:33:01   Log-Likelihood:                -48917.\n",
      "No. Observations:               22909   AIC:                         9.785e+04\n",
      "Df Residuals:                   22903   BIC:                         9.789e+04\n",
      "Df Model:                           6                                         \n",
      "Covariance Type:            nonrobust                                         \n",
      "================================================================================\n",
      "                   coef    std err          t      P>|t|      [0.025      0.975]\n",
      "--------------------------------------------------------------------------------\n",
      "TxGroup         -0.0171      0.014     -1.263      0.206      -0.044       0.009\n",
      "VisitDay        -0.0582      0.017     -3.480      0.001      -0.091      -0.025\n",
      "Country_Mean     0.2091      0.017     12.111      0.000       0.175       0.243\n",
      "Rater_Mean      -0.0002      0.034     -0.005      0.996      -0.068       0.067\n",
      "Site_Mean        0.1083      0.035      3.125      0.002       0.040       0.176\n",
      "PANSS_Total      0.3587      0.020     17.993      0.000       0.320       0.398\n",
      "==============================================================================\n",
      "Omnibus:                     2932.112   Durbin-Watson:                   0.139\n",
      "Prob(Omnibus):                  0.000   Jarque-Bera (JB):             4302.891\n",
      "Skew:                           0.957   Prob(JB):                         0.00\n",
      "Kurtosis:                       3.917   Cond. No.                         5.97\n",
      "==============================================================================\n",
      "\n",
      "Warnings:\n",
      "[1] Standard Errors assume that the covariance matrix of the errors is correctly specified.\n",
      "                            OLS Regression Results                            \n",
      "==============================================================================\n",
      "Dep. Variable:                     N6   R-squared:                       0.044\n",
      "Model:                            OLS   Adj. R-squared:                  0.043\n",
      "Method:                 Least Squares   F-statistic:                     173.9\n",
      "Date:                Tue, 13 Aug 2019   Prob (F-statistic):          3.36e-217\n",
      "Time:                        17:33:01   Log-Likelihood:                -55703.\n",
      "No. Observations:               22909   AIC:                         1.114e+05\n",
      "Df Residuals:                   22903   BIC:                         1.115e+05\n",
      "Df Model:                           6                                         \n",
      "Covariance Type:            nonrobust                                         \n",
      "================================================================================\n",
      "                   coef    std err          t      P>|t|      [0.025      0.975]\n",
      "--------------------------------------------------------------------------------\n",
      "TxGroup          0.0191      0.018      1.052      0.293      -0.017       0.055\n",
      "VisitDay         0.0644      0.022      2.865      0.004       0.020       0.108\n",
      "Country_Mean    -0.1053      0.023     -4.537      0.000      -0.151      -0.060\n",
      "Rater_Mean      -0.0562      0.046     -1.216      0.224      -0.147       0.034\n",
      "Site_Mean       -0.0019      0.047     -0.040      0.968      -0.093       0.089\n",
      "PANSS_Total      0.6779      0.027     25.288      0.000       0.625       0.730\n",
      "==============================================================================\n",
      "Omnibus:                       14.027   Durbin-Watson:                   0.075\n",
      "Prob(Omnibus):                  0.001   Jarque-Bera (JB):               14.877\n",
      "Skew:                          -0.034   Prob(JB):                     0.000588\n",
      "Kurtosis:                       3.105   Cond. No.                         5.97\n",
      "==============================================================================\n",
      "\n",
      "Warnings:\n",
      "[1] Standard Errors assume that the covariance matrix of the errors is correctly specified.\n",
      "                            OLS Regression Results                            \n",
      "==============================================================================\n",
      "Dep. Variable:                     G3   R-squared:                       0.033\n",
      "Model:                            OLS   Adj. R-squared:                  0.033\n",
      "Method:                 Least Squares   F-statistic:                     131.1\n",
      "Date:                Tue, 13 Aug 2019   Prob (F-statistic):          7.68e-164\n",
      "Time:                        17:33:01   Log-Likelihood:                -45702.\n",
      "No. Observations:               22909   AIC:                         9.142e+04\n",
      "Df Residuals:                   22903   BIC:                         9.146e+04\n",
      "Df Model:                           6                                         \n",
      "Covariance Type:            nonrobust                                         \n",
      "================================================================================\n",
      "                   coef    std err          t      P>|t|      [0.025      0.975]\n",
      "--------------------------------------------------------------------------------\n",
      "TxGroup          0.0138      0.012      1.170      0.242      -0.009       0.037\n",
      "VisitDay        -0.0473      0.015     -3.258      0.001      -0.076      -0.019\n",
      "Country_Mean     0.0180      0.015      1.201      0.230      -0.011       0.047\n",
      "Rater_Mean      -0.0492      0.030     -1.647      0.100      -0.108       0.009\n",
      "Site_Mean        0.0565      0.030      1.875      0.061      -0.003       0.115\n",
      "PANSS_Total      0.2913      0.017     16.816      0.000       0.257       0.325\n",
      "==============================================================================\n",
      "Omnibus:                     4709.052   Durbin-Watson:                   0.178\n",
      "Prob(Omnibus):                  0.000   Jarque-Bera (JB):             8605.027\n",
      "Skew:                           1.302   Prob(JB):                         0.00\n",
      "Kurtosis:                       4.496   Cond. No.                         5.97\n",
      "==============================================================================\n",
      "\n",
      "Warnings:\n",
      "[1] Standard Errors assume that the covariance matrix of the errors is correctly specified.\n",
      "                            OLS Regression Results                            \n",
      "==============================================================================\n",
      "Dep. Variable:                     G5   R-squared:                       0.047\n",
      "Model:                            OLS   Adj. R-squared:                  0.047\n",
      "Method:                 Least Squares   F-statistic:                     187.9\n",
      "Date:                Tue, 13 Aug 2019   Prob (F-statistic):          1.38e-234\n",
      "Time:                        17:33:01   Log-Likelihood:                -49579.\n",
      "No. Observations:               22909   AIC:                         9.917e+04\n",
      "Df Residuals:                   22903   BIC:                         9.922e+04\n",
      "Df Model:                           6                                         \n",
      "Covariance Type:            nonrobust                                         \n",
      "================================================================================\n",
      "                   coef    std err          t      P>|t|      [0.025      0.975]\n",
      "--------------------------------------------------------------------------------\n",
      "TxGroup          0.0191      0.014      1.370      0.171      -0.008       0.046\n",
      "VisitDay         0.0637      0.017      3.701      0.000       0.030       0.097\n",
      "Country_Mean    -0.0950      0.018     -5.343      0.000      -0.130      -0.060\n",
      "Rater_Mean       0.0357      0.035      1.009      0.313      -0.034       0.105\n",
      "Site_Mean       -0.0037      0.036     -0.102      0.918      -0.074       0.066\n",
      "PANSS_Total      0.5071      0.021     24.713      0.000       0.467       0.547\n",
      "==============================================================================\n",
      "Omnibus:                      576.819   Durbin-Watson:                   0.102\n",
      "Prob(Omnibus):                  0.000   Jarque-Bera (JB):              585.217\n",
      "Skew:                           0.368   Prob(JB):                    8.35e-128\n",
      "Kurtosis:                       2.733   Cond. No.                         5.97\n",
      "==============================================================================\n",
      "\n",
      "Warnings:\n",
      "[1] Standard Errors assume that the covariance matrix of the errors is correctly specified.\n",
      "                            OLS Regression Results                            \n",
      "==============================================================================\n",
      "Dep. Variable:          Bipolar_index   R-squared:                       0.077\n",
      "Model:                            OLS   Adj. R-squared:                  0.077\n",
      "Method:                 Least Squares   F-statistic:                     318.1\n",
      "Date:                Tue, 13 Aug 2019   Prob (F-statistic):               0.00\n",
      "Time:                        17:33:01   Log-Likelihood:                -77294.\n",
      "No. Observations:               22909   AIC:                         1.546e+05\n",
      "Df Residuals:                   22903   BIC:                         1.546e+05\n",
      "Df Model:                           6                                         \n",
      "Covariance Type:            nonrobust                                         \n",
      "================================================================================\n",
      "                   coef    std err          t      P>|t|      [0.025      0.975]\n",
      "--------------------------------------------------------------------------------\n",
      "TxGroup         -0.0619      0.047     -1.326      0.185      -0.153       0.030\n",
      "VisitDay        -0.7782      0.058    -13.488      0.000      -0.891      -0.665\n",
      "Country_Mean     1.3357      0.060     22.417      0.000       1.219       1.452\n",
      "Rater_Mean      -0.1797      0.119     -1.515      0.130      -0.412       0.053\n",
      "Site_Mean        0.3813      0.120      3.189      0.001       0.147       0.616\n",
      "PANSS_Total      0.4397      0.069      6.392      0.000       0.305       0.575\n",
      "==============================================================================\n",
      "Omnibus:                      250.081   Durbin-Watson:                   0.369\n",
      "Prob(Omnibus):                  0.000   Jarque-Bera (JB):              434.135\n",
      "Skew:                          -0.016   Prob(JB):                     5.35e-95\n",
      "Kurtosis:                       3.674   Cond. No.                         5.97\n",
      "==============================================================================\n",
      "\n",
      "Warnings:\n",
      "[1] Standard Errors assume that the covariance matrix of the errors is correctly specified.\n"
     ]
    }
   ],
   "source": [
    "#Normalizing data\n",
    "datax =(datax-datax.mean())/datax.std()\n",
    "for i in scores:    \n",
    "    results = sm.OLS(data[i], datax).fit()\n",
    "    print(results.summary())"
   ]
  },
  {
   "cell_type": "code",
   "execution_count": 17,
   "metadata": {},
   "outputs": [],
   "source": [
    "cols = [\"TxGroup\",'VisitDay', 'Country_Mean', 'Rater_Mean', 'Site_Mean']\n",
    "datax = data[cols]\n",
    "datay = data[\"PANSS_Total\"]"
   ]
  },
  {
   "cell_type": "code",
   "execution_count": 27,
   "metadata": {},
   "outputs": [
    {
     "data": {
      "image/png": "[encoded data removed]",
      "text/plain": [
       "<Figure size 432x720 with 1 Axes>"
      ]
     },
     "metadata": {
      "needs_background": "light"
     },
     "output_type": "display_data"
    },
    {
     "name": "stdout",
     "output_type": "stream",
     "text": [
      "XGB score:  0.05106940200785683\n"
     ]
    }
   ],
   "source": [
    "x_train, x_test, y_train, y_test = train_test_split(datax, datay, test_size=0.20)\n",
    "model = XGBClassifier()\n",
    "model.fit(x_train, y_train)\n",
    "# plot feature importance\n",
    "ax = plot_importance(model)\n",
    "fig = ax.figure\n",
    "fig.set_size_inches(6, 10)\n",
    "pyplot.show()\n",
    "predict = model.predict(x_test)\n",
    "score = model.score(x_test, y_test)\n",
    "print(\"XGB score: \", score)"
   ]
  },
  {
   "cell_type": "code",
   "execution_count": 28,
   "metadata": {},
   "outputs": [
    {
     "name": "stdout",
     "output_type": "stream",
     "text": [
      "[0.09870482 0.31293717 0.16024704 0.2499342  0.17817678]\n"
     ]
    }
   ],
   "source": [
    "print(model.feature_importances_)"
   ]
  }
 ],
 "metadata": {
  "kernelspec": {
   "display_name": "Python 3",
   "language": "python",
   "name": "python3"
  },
  "language_info": {
   "codemirror_mode": {
    "name": "ipython",
    "version": 3
   },
   "file_extension": ".py",
   "mimetype": "text/x-python",
   "name": "python",
   "nbconvert_exporter": "python",
   "pygments_lexer": "ipython3",
   "version": "3.7.1"
  }
 },
 "nbformat": 4,
 "nbformat_minor": 2
}
